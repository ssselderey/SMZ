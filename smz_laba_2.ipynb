{
 "cells": [
  {
   "cell_type": "markdown",
   "id": "edb04b30",
   "metadata": {},
   "source": [
    "#### Лабораторная работа № 2. Разработка нейросетевых функций. Операция Convolution 3D\n",
    "#### БВТ2003 Никитин Степан Романович"
   ]
  },
  {
   "cell_type": "code",
   "execution_count": 89,
   "id": "b4775c28",
   "metadata": {},
   "outputs": [],
   "source": [
    "import torch\n",
    "import numpy as np\n",
    "from typing import Union"
   ]
  },
  {
   "cell_type": "code",
   "execution_count": 128,
   "id": "c1fb9aa3",
   "metadata": {},
   "outputs": [],
   "source": [
    "class Conv3D:\n",
    "    def __init__(self, in_channels: int, out_channels: int, kernel_size: Union[int, tuple], stride: Union[int, tuple] = 1, groups: int = 1) -> None:\n",
    "        \"\"\"\n",
    "        Конструктор класса Conv3D\n",
    "        \"\"\"\n",
    "        self.in_channels = in_channels     # количество входных каналов (каналов входного тензора)\n",
    "        self.out_channels = out_channels   # количество выходных каналов (каналов результата свертки)\n",
    "        self.kernel_size = kernel_size     # размер ядра свертки (предполагается квадратное ядро)\n",
    "        self.stride = stride               # шаг свертки\n",
    "        self.groups = groups               # количество групп для разделения входных и выходных каналов\n",
    "\n",
    "        # преобразование kernel_size в кортеж, если он целое число\n",
    "        if isinstance(kernel_size, int):\n",
    "            kernel_size = (kernel_size, kernel_size, kernel_size)\n",
    "\n",
    "        # инициализация весов (ядер свертки)\n",
    "        self.weights = np.random.randn(out_channels, in_channels // groups, *kernel_size)\n",
    "        self.bias = np.zeros((out_channels,))\n",
    "\n",
    "    def forward(self, input_tensor: np.ndarray) -> np.ndarray:\n",
    "        \"\"\"\n",
    "        Метод для выполнения трехмерной операции свертки\n",
    "        \"\"\"\n",
    "        batch_size, in_channels, input_depth, input_height, input_width = input_tensor.shape\n",
    "        kernel_size = self.kernel_size\n",
    "\n",
    "        # преобразование kernel_size в кортеж, если он целое число\n",
    "        if isinstance(kernel_size, int):\n",
    "            kernel_size = (kernel_size, kernel_size, kernel_size)\n",
    "\n",
    "        # проверка на корректные размеры входного тензора\n",
    "        if input_depth < kernel_size[0] or input_height < kernel_size[1] or input_width < kernel_size[2]:\n",
    "            raise ValueError(\"Неверный размер ядра для входного тензора\")\n",
    "\n",
    "        # вычисление размеров результата свертки\n",
    "        if isinstance(self.stride, int):\n",
    "            stride_d = stride_h = stride_w = self.stride\n",
    "        elif isinstance(self.stride, tuple) and len(self.stride) == 3:\n",
    "            stride_d, stride_h, stride_w = self.stride\n",
    "        else:\n",
    "            raise ValueError(\"Недопустимый формат шага. Должно быть целое число или кортеж из трех целых чисел\")\n",
    "\n",
    "        output_depth = (input_depth - kernel_size[0]) // stride_d + 1\n",
    "        output_height = (input_height - kernel_size[1]) // stride_h + 1\n",
    "        output_width = (input_width - kernel_size[2]) // stride_w + 1\n",
    "\n",
    "        # инициализация результата свертки\n",
    "        result = np.zeros((self.out_channels, output_depth, output_height, output_width))\n",
    "\n",
    "        # выполнение свертки\n",
    "        for d in range(0, input_depth - kernel_size[0] + 1, stride_d):\n",
    "            for i in range(0, input_height - kernel_size[1] + 1, stride_h):\n",
    "                for j in range(0, input_width - kernel_size[2] + 1, stride_w):\n",
    "                    # окно свертки\n",
    "                    window = input_tensor[:, :, d:d + kernel_size[0], i:i + kernel_size[1], j:j + kernel_size[2]]\n",
    "\n",
    "                    # вычисление свертки и добавление bias\n",
    "                    result[:, d // stride_d, i // stride_h, j // stride_w] = np.sum(window * self.weights, axis=(1, 2, 3, 4)) + self.bias\n",
    "\n",
    "        return result"
   ]
  },
  {
   "cell_type": "code",
   "execution_count": 134,
   "id": "8b3ee0d3",
   "metadata": {},
   "outputs": [],
   "source": [
    "def run_3d_test(in_channels: int, out_channels: int, kernel_size: Union[int, tuple], stride: Union[int, tuple],\n",
    "                padding: Union[int, tuple], dilation: int, groups: int, bias: bool, padding_mode: str) -> None:\n",
    "    \"\"\"\n",
    "    Функция для выполнения теста трехмерной операции свертки\n",
    "    \"\"\"\n",
    "    # создание экземпляра Conv3D\n",
    "    conv3d_layer = Conv3D(in_channels=in_channels, out_channels=out_channels, kernel_size=kernel_size, stride=stride)\n",
    "\n",
    "    # создание трехмерного тензора для теста\n",
    "    input_tensor_3d = np.random.randn(1, in_channels, 10, 10, 10)\n",
    "\n",
    "    # выполнение трехмерной свертки\n",
    "    result_3d = conv3d_layer.forward(input_tensor_3d)\n",
    "\n",
    "    # преобразование результатов в формат torch.Tensor для сравнения с PyTorch\n",
    "    output_tensor_torch = torch.nn.functional.conv3d(torch.tensor(input_tensor_3d), \n",
    "                                                      torch.tensor(conv3d_layer.weights), \n",
    "                                                      bias=torch.tensor(conv3d_layer.bias), \n",
    "                                                      stride=conv3d_layer.stride, \n",
    "                                                      padding=padding,\n",
    "                                                      dilation=dilation,\n",
    "                                                      groups=1).numpy()\n",
    "\n",
    "    # проверка совпадения результатов\n",
    "    are_results_equal = np.allclose(result_3d, output_tensor_torch)\n",
    "    \n",
    "    print(f\"Тест с параметрами:\")\n",
    "    print(f\"  - in_channels: {in_channels}\")\n",
    "    print(f\"  - out_channels: {out_channels}\")\n",
    "    print(f\"  - kernel_size: {kernel_size}\")\n",
    "    print(f\"  - stride: {stride}\")\n",
    "    print(f\"  - padding: {padding}\")\n",
    "    print(f\"  - dilation: {dilation}\")\n",
    "    print(f\"  - groups: {groups}\")\n",
    "    print(f\"  - bias: {bias}\")\n",
    "    print(f\"  - padding_mode: {padding_mode}\")\n",
    "    print(f\"\\nСовпадение результатов: {are_results_equal}\")\n",
    "    print(f\"\\n{'-'*75}\\n\")"
   ]
  },
  {
   "cell_type": "code",
   "execution_count": 141,
   "id": "890490f4",
   "metadata": {},
   "outputs": [],
   "source": [
    "def test_3d_params() -> None:\n",
    "    \"\"\"\n",
    "    Функция для тестирования различных параметров трехмерной операции свертки\n",
    "    \"\"\"\n",
    "    # параметры тестирования для первой группы\n",
    "    run_3d_test(in_channels=8, out_channels=20, kernel_size=3, stride=1, padding=0, dilation=1, groups=2, bias=True, padding_mode='zeros')\n",
    "    \n",
    "    # параметры тестирования для дополнительной группы\n",
    "    run_3d_test(in_channels=3, out_channels=2, kernel_size=3, stride=(2, 2, 2), padding=0, dilation=1, groups=1, bias=True, padding_mode='zeros')\n",
    "    \n",
    "    # параметры тестирования для дополнительной группы\n",
    "    run_3d_test(in_channels=8, out_channels=20, kernel_size=3, stride=1, padding=0, dilation=1, groups=2, bias=True, padding_mode='zeros')"
   ]
  },
  {
   "cell_type": "code",
   "execution_count": 142,
   "id": "4657709a",
   "metadata": {},
   "outputs": [
    {
     "name": "stdout",
     "output_type": "stream",
     "text": [
      "Результат свертки (Conv3D):\n",
      " [[[[  5.00813705  -5.3570865 ]\n",
      "   [ -9.5868979  -10.91819192]]\n",
      "\n",
      "  [[  8.51395494  15.32848853]\n",
      "   [  6.67337      9.3429326 ]]]\n",
      "\n",
      "\n",
      " [[[  2.97462961  -4.41357134]\n",
      "   [  4.83494784  -6.57586784]]\n",
      "\n",
      "  [[ -2.73776324 -10.60930908]\n",
      "   [  4.43325231  -2.49800322]]]]\n"
     ]
    }
   ],
   "source": [
    "# параметры тестирования для дополнительной группы\n",
    "input_tensor_3d = np.random.randn(1, 3, 5, 5, 5)\n",
    "conv3d_layer = Conv3D(in_channels=3, out_channels=2, kernel_size=3, stride=(2, 2, 2))\n",
    "output_tensor_3d = conv3d_layer.forward(input_tensor_3d)\n",
    "\n",
    "print(f\"Результат свертки (Conv3D):\\n {output_tensor_3d}\")"
   ]
  },
  {
   "cell_type": "code",
   "execution_count": 143,
   "id": "fb90dee3",
   "metadata": {},
   "outputs": [
    {
     "name": "stdout",
     "output_type": "stream",
     "text": [
      "Результат свертки (PyTorch):\n",
      " [[[[[  5.00813705  -5.3570865 ]\n",
      "    [ -9.5868979  -10.91819192]]\n",
      "\n",
      "   [[  8.51395494  15.32848853]\n",
      "    [  6.67337      9.3429326 ]]]\n",
      "\n",
      "\n",
      "  [[[  2.97462961  -4.41357134]\n",
      "    [  4.83494784  -6.57586784]]\n",
      "\n",
      "   [[ -2.73776324 -10.60930908]\n",
      "    [  4.43325231  -2.49800322]]]]]\n"
     ]
    }
   ],
   "source": [
    "# преобразование результатов в формат torch.Tensor для сравнения с PyTorch\n",
    "input_tensor_torch_3d = torch.tensor(input_tensor_3d)\n",
    "output_tensor_torch_3d = torch.nn.functional.conv3d(input_tensor_torch_3d,\n",
    "                                                     torch.tensor(conv3d_layer.weights),\n",
    "                                                     bias=torch.tensor(conv3d_layer.bias),\n",
    "                                                     stride=(2, 2, 2)).numpy()\n",
    "\n",
    "print(f\"Результат свертки (PyTorch):\\n {output_tensor_torch_3d}\")"
   ]
  },
  {
   "cell_type": "code",
   "execution_count": 144,
   "id": "92669d04",
   "metadata": {},
   "outputs": [
    {
     "name": "stdout",
     "output_type": "stream",
     "text": [
      "Тест с параметрами:\n",
      "  - in_channels: 8\n",
      "  - out_channels: 20\n",
      "  - kernel_size: 3\n",
      "  - stride: 1\n",
      "  - padding: 0\n",
      "  - dilation: 1\n",
      "  - groups: 2\n",
      "  - bias: True\n",
      "  - padding_mode: zeros\n",
      "\n",
      "Совпадение результатов: True\n",
      "\n",
      "---------------------------------------------------------------------------\n",
      "\n",
      "Тест с параметрами:\n",
      "  - in_channels: 3\n",
      "  - out_channels: 2\n",
      "  - kernel_size: 3\n",
      "  - stride: (2, 2, 2)\n",
      "  - padding: 0\n",
      "  - dilation: 1\n",
      "  - groups: 1\n",
      "  - bias: True\n",
      "  - padding_mode: zeros\n",
      "\n",
      "Совпадение результатов: True\n",
      "\n",
      "---------------------------------------------------------------------------\n",
      "\n",
      "Тест с параметрами:\n",
      "  - in_channels: 8\n",
      "  - out_channels: 20\n",
      "  - kernel_size: 3\n",
      "  - stride: 1\n",
      "  - padding: 0\n",
      "  - dilation: 1\n",
      "  - groups: 2\n",
      "  - bias: True\n",
      "  - padding_mode: zeros\n",
      "\n",
      "Совпадение результатов: True\n",
      "\n",
      "---------------------------------------------------------------------------\n",
      "\n"
     ]
    }
   ],
   "source": [
    "test_3d_params()"
   ]
  },
  {
   "cell_type": "markdown",
   "id": "5b4a552d",
   "metadata": {},
   "source": []
  }
 ],
 "metadata": {
  "kernelspec": {
   "display_name": "Python 3 (ipykernel)",
   "language": "python",
   "name": "python3"
  },
  "language_info": {
   "codemirror_mode": {
    "name": "ipython",
    "version": 3
   },
   "file_extension": ".py",
   "mimetype": "text/x-python",
   "name": "python",
   "nbconvert_exporter": "python",
   "pygments_lexer": "ipython3",
   "version": "3.10.2"
  }
 },
 "nbformat": 4,
 "nbformat_minor": 5
}
