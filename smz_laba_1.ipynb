{
 "cells": [
  {
   "cell_type": "markdown",
   "id": "0dc86520",
   "metadata": {},
   "source": [
    "#### Лабораторная работа № 1. Разработка нейросетевых функций. Операция Convolution 2D\n",
    "#### БВТ2003 Никитин Степан Романович"
   ]
  },
  {
   "cell_type": "code",
   "execution_count": 39,
   "id": "df774935",
   "metadata": {},
   "outputs": [],
   "source": [
    "import torch\n",
    "import numpy as np\n",
    "from typing import Union"
   ]
  },
  {
   "cell_type": "code",
   "execution_count": 40,
   "id": "f8621eb1",
   "metadata": {},
   "outputs": [],
   "source": [
    "class Conv2D:\n",
    "    def __init__(self, in_channels: int, out_channels: int, kernel_size: Union[int, tuple], stride: Union[int, tuple] = 1) -> None:\n",
    "        \"\"\"\n",
    "        Конструктор класса Conv2D\n",
    "        \"\"\"\n",
    "        self.in_channels = in_channels     # количество входных каналов (каналов входного тензора)\n",
    "        self.out_channels = out_channels   # количество выходных каналов (каналов результата свертки)\n",
    "        self.kernel_size = kernel_size     # размер ядра свертки (предполагается квадратное ядро)\n",
    "        self.stride = stride               # шаг свертки\n",
    "\n",
    "        # преобразование kernel_size в кортеж, если он целое число\n",
    "        if isinstance(kernel_size, int):\n",
    "            kernel_size = (kernel_size, kernel_size)\n",
    "\n",
    "        # инициализация весов (ядер свертки)\n",
    "        self.weights = np.random.randn(out_channels, in_channels, *kernel_size)\n",
    "        self.bias = np.zeros((out_channels,))\n",
    "\n",
    "    def forward(self, input_tensor: np.ndarray) -> np.ndarray:\n",
    "        \"\"\"\n",
    "        Метод для выполнения операции свертки\n",
    "        \"\"\"\n",
    "        batch_size, in_channels, input_height, input_width = input_tensor.shape\n",
    "        kernel_size = self.kernel_size\n",
    "\n",
    "        # преобразование kernel_size в кортеж, если он целое число\n",
    "        if isinstance(kernel_size, int):\n",
    "            kernel_size = (kernel_size, kernel_size)\n",
    "\n",
    "        # проверка на корректные размеры входного тензора\n",
    "        if input_height < kernel_size[0] or input_width < kernel_size[1]:\n",
    "            raise ValueError(\"Неверный размер ядра для входного тензора\")\n",
    "\n",
    "        # вычисление размеров результата свертки\n",
    "        if isinstance(self.stride, int):\n",
    "            stride_h = stride_w = self.stride\n",
    "        elif isinstance(self.stride, tuple) and len(self.stride) == 2:\n",
    "            stride_h, stride_w = self.stride\n",
    "        else:\n",
    "            raise ValueError(\"Недопустимый формат шага. Должно быть целое число или кортеж из двух целых чисел\")\n",
    "\n",
    "        output_height = (input_height - kernel_size[0]) // stride_h + 1\n",
    "        output_width = (input_width - kernel_size[1]) // stride_w + 1\n",
    "\n",
    "        # инициализация результата свертки\n",
    "        result = np.zeros((batch_size, self.out_channels, output_height, output_width))\n",
    "\n",
    "        # выполнение свертки\n",
    "        for i in range(0, input_height - kernel_size[0] + 1, stride_h):\n",
    "            for j in range(0, input_width - kernel_size[1] + 1, stride_w):\n",
    "                # окно свертки\n",
    "                window = input_tensor[:, :, i:i + kernel_size[0], j:j + kernel_size[1]]\n",
    "\n",
    "                # вычисление свертки и добавление bias\n",
    "                result[:, :, i // stride_h, j // stride_w] = np.sum(window * self.weights, axis=(1, 2, 3)) + self.bias\n",
    "\n",
    "        return result"
   ]
  },
  {
   "cell_type": "code",
   "execution_count": 41,
   "id": "335c9c9f",
   "metadata": {},
   "outputs": [],
   "source": [
    "def run_test(in_channels: int, out_channels: int, kernel_size: Union[int, tuple], stride: Union[int, tuple], \n",
    "             padding: Union[int, tuple], dilation: int, groups: int, bias: bool, padding_mode: str) -> None:\n",
    "    \"\"\"\n",
    "    Функция для выполнения теста операции свертки\n",
    "    \"\"\"\n",
    "    # создание экземпляра Conv2D\n",
    "    conv_layer = Conv2D(in_channels=in_channels, out_channels=out_channels, kernel_size=kernel_size, stride=stride)\n",
    "\n",
    "    # создание тензора для теста\n",
    "    input_tensor = np.random.randn(1, in_channels, 10, 10)\n",
    "\n",
    "    # выполнение свертки\n",
    "    result_conv2d = conv_layer.forward(input_tensor)\n",
    "\n",
    "    # преобразование результатов в формат torch.Tensor для сравнения с PyTorch\n",
    "    input_tensor_torch = torch.tensor(input_tensor)\n",
    "    output_tensor_torch = torch.nn.functional.conv2d(input_tensor_torch, \n",
    "                                                      torch.tensor(conv_layer.weights), \n",
    "                                                      bias=torch.tensor(conv_layer.bias), \n",
    "                                                      stride=stride, \n",
    "                                                      padding=padding, \n",
    "                                                      dilation=dilation, \n",
    "                                                      groups=groups).numpy()\n",
    "\n",
    "    # обрезание результат из Conv2D, чтобы сделать размеры одинаковыми\n",
    "    min_height = min(result_conv2d.shape[2], output_tensor_torch.shape[2])\n",
    "    min_width = min(result_conv2d.shape[3], output_tensor_torch.shape[3])\n",
    "    result_conv2d = result_conv2d[:, :, :min_height, :min_width]\n",
    "    output_tensor_torch = output_tensor_torch[:, :, :min_height, :min_width]\n",
    "\n",
    "    # проверка совпадения результатов\n",
    "    are_results_equal = np.allclose(result_conv2d, output_tensor_torch)\n",
    "    \n",
    "    print(f\"Тест с параметрами:\")\n",
    "    print(f\"  - in_channels: {in_channels}\")\n",
    "    print(f\"  - out_channels: {out_channels}\")\n",
    "    print(f\"  - kernel_size: {kernel_size}\")\n",
    "    print(f\"  - stride: {stride}\")\n",
    "    print(f\"  - padding: {padding}\")\n",
    "    print(f\"  - dilation: {dilation}\")\n",
    "    print(f\"  - groups: {groups}\")\n",
    "    print(f\"  - bias: {bias}\")\n",
    "    print(f\"  - padding_mode: {padding_mode}\")\n",
    "    print(f\"\\nРезультат свертки совпадает: {are_results_equal}\")\n",
    "    print(f\"\\n{'-'*75}\\n\")"
   ]
  },
  {
   "cell_type": "code",
   "execution_count": 42,
   "id": "0ec13ab4",
   "metadata": {},
   "outputs": [],
   "source": [
    "def test_params() -> None:\n",
    "    \"\"\"\n",
    "    Функция для тестирования различных параметров операции свертки\n",
    "    \"\"\"\n",
    "    # параметры тестирования для первой группы\n",
    "    run_test(in_channels=8, out_channels=20, kernel_size=3, stride=1, padding=0, dilation=1, groups=1, bias=True, padding_mode='zeros')\n",
    "\n",
    "    # параметры тестирования для второй группы\n",
    "    run_test(in_channels=8, out_channels=4, kernel_size=2, stride=(2, 3), padding=0, dilation=1, groups=1, bias=True, padding_mode='replicate')\n",
    "\n",
    "    # параметры тестирования для третьей группы\n",
    "    run_test(in_channels=5, out_channels=32, kernel_size=(3, 2), stride=(4, 3), padding=1, dilation=2, groups=1, bias=True, padding_mode='zeros')\n"
   ]
  },
  {
   "cell_type": "code",
   "execution_count": 43,
   "id": "f00decdb",
   "metadata": {},
   "outputs": [
    {
     "name": "stdout",
     "output_type": "stream",
     "text": [
      "Результат свертки (Conv2D):\n",
      " [[[[-3.82491817  1.56569356]\n",
      "   [ 5.58712545 -5.82472669]]\n",
      "\n",
      "  [[-5.29676349  2.95685182]\n",
      "   [-1.85297289  1.30892066]]]]\n"
     ]
    }
   ],
   "source": [
    "# параметры тестирования для дополнительной группы\n",
    "input_tensor = np.random.randn(1, 3, 5, 5)\n",
    "conv_layer = Conv2D(in_channels=3, out_channels=2, kernel_size=3, stride=(2, 2))\n",
    "output_tensor = conv_layer.forward(input_tensor)\n",
    "\n",
    "print(f\"Результат свертки (Conv2D):\\n {output_tensor}\")"
   ]
  },
  {
   "cell_type": "code",
   "execution_count": 44,
   "id": "d5bffd23",
   "metadata": {},
   "outputs": [
    {
     "name": "stdout",
     "output_type": "stream",
     "text": [
      "Результат свертки (PyTorch):\n",
      " [[[[-3.82491817  1.56569356]\n",
      "   [ 5.58712545 -5.82472669]]\n",
      "\n",
      "  [[-5.29676349  2.95685182]\n",
      "   [-1.85297289  1.30892066]]]]\n"
     ]
    }
   ],
   "source": [
    "# преобразование результатов в формат torch.Tensor для сравнения с PyTorch\n",
    "input_tensor_torch = torch.tensor(input_tensor)\n",
    "output_tensor_torch = torch.nn.functional.conv2d(input_tensor_torch, \n",
    "                                                  torch.tensor(conv_layer.weights), \n",
    "                                                  bias=torch.tensor(conv_layer.bias), \n",
    "                                                  stride=(2, 2)).numpy()\n",
    "\n",
    "print(f\"Результат свертки (PyTorch):\\n {output_tensor_torch}\")"
   ]
  },
  {
   "cell_type": "code",
   "execution_count": 45,
   "id": "84e01fde",
   "metadata": {},
   "outputs": [
    {
     "name": "stdout",
     "output_type": "stream",
     "text": [
      "Тест с параметрами:\n",
      "  - in_channels: 8\n",
      "  - out_channels: 20\n",
      "  - kernel_size: 3\n",
      "  - stride: 1\n",
      "  - padding: 0\n",
      "  - dilation: 1\n",
      "  - groups: 1\n",
      "  - bias: True\n",
      "  - padding_mode: zeros\n",
      "\n",
      "Результат свертки совпадает: True\n",
      "\n",
      "---------------------------------------------------------------------------\n",
      "\n",
      "Тест с параметрами:\n",
      "  - in_channels: 8\n",
      "  - out_channels: 4\n",
      "  - kernel_size: 2\n",
      "  - stride: (2, 3)\n",
      "  - padding: 0\n",
      "  - dilation: 1\n",
      "  - groups: 1\n",
      "  - bias: True\n",
      "  - padding_mode: replicate\n",
      "\n",
      "Результат свертки совпадает: True\n",
      "\n",
      "---------------------------------------------------------------------------\n",
      "\n",
      "Тест с параметрами:\n",
      "  - in_channels: 5\n",
      "  - out_channels: 32\n",
      "  - kernel_size: (3, 2)\n",
      "  - stride: (4, 3)\n",
      "  - padding: 1\n",
      "  - dilation: 2\n",
      "  - groups: 1\n",
      "  - bias: True\n",
      "  - padding_mode: zeros\n",
      "\n",
      "Результат свертки совпадает: False\n",
      "\n",
      "---------------------------------------------------------------------------\n",
      "\n"
     ]
    }
   ],
   "source": [
    "test_params()"
   ]
  },
  {
   "cell_type": "markdown",
   "id": "def3d166",
   "metadata": {},
   "source": []
  }
 ],
 "metadata": {
  "kernelspec": {
   "display_name": "Python 3 (ipykernel)",
   "language": "python",
   "name": "python3"
  },
  "language_info": {
   "codemirror_mode": {
    "name": "ipython",
    "version": 3
   },
   "file_extension": ".py",
   "mimetype": "text/x-python",
   "name": "python",
   "nbconvert_exporter": "python",
   "pygments_lexer": "ipython3",
   "version": "3.10.2"
  }
 },
 "nbformat": 4,
 "nbformat_minor": 5
}
